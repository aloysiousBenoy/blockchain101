{
 "cells": [
  {
   "cell_type": "code",
   "execution_count": 21,
   "id": "personal-parking",
   "metadata": {},
   "outputs": [],
   "source": [
    "# import blockchain\n",
    "import hashlib as hs\n",
    "import time \n",
    "\n",
    "def hash(target):\n",
    "    proof = 1\n",
    "    prev = 553\n",
    "    start_time = time.perf_counter()\n",
    "    while True:\n",
    "        hash = hs.sha256(str(proof**2-prev**2).encode()).hexdigest()\n",
    "        if str(hash).startswith('0'*target):\n",
    "            end_time = time.perf_counter()\n",
    "            tot_time = end_time-start_time\n",
    "            print(\"Found target hash : {}\".format(hash))\n",
    "            print(\"Took {} s \".format(tot_time))\n",
    "            print(\"Approx {} K Hashes /s\".format((proof/tot_time)/1000))\n",
    "            return [tot_time,proof]\n",
    "        else:\n",
    "            proof+=1"
   ]
  },
  {
   "cell_type": "code",
   "execution_count": 22,
   "id": "minute-cartridge",
   "metadata": {},
   "outputs": [
    {
     "name": "stdout",
     "output_type": "stream",
     "text": [
      "Found target hash : f1489b0d0629a6af1b3bb553ad35c3d62c591ccbff8fe9cfb1659b16b982bff0\n",
      "Took 8.95900302566588e-06 s \n",
      "Approx 111.61956270526818 K Hashes /s\n",
      "Found target hash : 0fa168998ed7c8401f805bef15246bbdf688c9521f3be10dfd6a5553b441531f\n",
      "Took 9.202994988299906e-06 s \n",
      "Approx 217.32055733407122 K Hashes /s\n",
      "Found target hash : 005f9e95af7f45d97bf7a8e26443367bc697e6f15e155eefc16f576522449428\n",
      "Took 0.0005468009985634126 s \n",
      "Approx 395.0248821188838 K Hashes /s\n",
      "Found target hash : 000cf402b14373a542c08c26b074e4475cfa144029067cdd7e03b61909c07b2d\n",
      "Took 0.008476549002807587 s \n",
      "Approx 674.213055113241 K Hashes /s\n",
      "Found target hash : 00004a6cf4ea530f547284aa122607cbbd223dd92dd2a821f878b5b859dddee9\n",
      "Took 0.11603947399999015 s \n",
      "Approx 722.7195807523835 K Hashes /s\n",
      "Found target hash : 000004085e31584998af395764806b821fd7f80041196d923284b568b2a0dd0f\n",
      "Took 3.410360446003324 s \n",
      "Approx 686.8215360476056 K Hashes /s\n",
      "Found target hash : 000000e045b04566cb2095b14cd55ef650913c0f8d0791fad75dd05c22438769\n",
      "Took 45.03137083299953 s \n",
      "Approx 700.4231809191641 K Hashes /s\n",
      "Found target hash : 0000000182ee65716328de0a7f9cb7062ead5d28ffa0bafb5b95fba65bb2e0c0\n",
      "Took 140.13821953099978 s \n",
      "Approx 616.9473273554383 K Hashes /s\n",
      "Found target hash : 00000000d61b190eef4f07351185dac23cb776f80ef4478571b3cbd3acc38297\n",
      "Took 2753.289448527001 s \n",
      "Approx 625.7816587071061 K Hashes /s\n"
     ]
    },
    {
     "ename": "KeyboardInterrupt",
     "evalue": "",
     "output_type": "error",
     "traceback": [
      "\u001b[0;31m---------------------------------------------------------------------------\u001b[0m",
      "\u001b[0;31mKeyboardInterrupt\u001b[0m                         Traceback (most recent call last)",
      "\u001b[0;32m<ipython-input-22-bba8e642d02f>\u001b[0m in \u001b[0;36m<module>\u001b[0;34m\u001b[0m\n\u001b[1;32m      3\u001b[0m \u001b[0mabs_start\u001b[0m \u001b[0;34m=\u001b[0m \u001b[0mtime\u001b[0m\u001b[0;34m.\u001b[0m\u001b[0mperf_counter\u001b[0m\u001b[0;34m(\u001b[0m\u001b[0;34m)\u001b[0m\u001b[0;34m\u001b[0m\u001b[0;34m\u001b[0m\u001b[0m\n\u001b[1;32m      4\u001b[0m \u001b[0;32mfor\u001b[0m \u001b[0mi\u001b[0m \u001b[0;32min\u001b[0m \u001b[0mnp\u001b[0m\u001b[0;34m.\u001b[0m\u001b[0marange\u001b[0m\u001b[0;34m(\u001b[0m\u001b[0;36m15\u001b[0m\u001b[0;34m)\u001b[0m\u001b[0;34m:\u001b[0m\u001b[0;34m\u001b[0m\u001b[0;34m\u001b[0m\u001b[0m\n\u001b[0;32m----> 5\u001b[0;31m     \u001b[0mdat\u001b[0m \u001b[0;34m=\u001b[0m \u001b[0mhash\u001b[0m\u001b[0;34m(\u001b[0m\u001b[0mtarget\u001b[0m\u001b[0;34m=\u001b[0m\u001b[0mi\u001b[0m\u001b[0;34m)\u001b[0m\u001b[0;34m\u001b[0m\u001b[0;34m\u001b[0m\u001b[0m\n\u001b[0m\u001b[1;32m      6\u001b[0m     \u001b[0mt\u001b[0m \u001b[0;34m=\u001b[0m \u001b[0mtime\u001b[0m\u001b[0;34m.\u001b[0m\u001b[0mperf_counter\u001b[0m\u001b[0;34m(\u001b[0m\u001b[0;34m)\u001b[0m\u001b[0;34m-\u001b[0m\u001b[0mabs_start\u001b[0m\u001b[0;34m\u001b[0m\u001b[0;34m\u001b[0m\u001b[0m\n\u001b[1;32m      7\u001b[0m     \u001b[0;31m# Save to csv file in the format\u001b[0m\u001b[0;34m\u001b[0m\u001b[0;34m\u001b[0m\u001b[0;34m\u001b[0m\u001b[0m\n",
      "\u001b[0;32m<ipython-input-21-657616b56e28>\u001b[0m in \u001b[0;36mhash\u001b[0;34m(target)\u001b[0m\n\u001b[1;32m     17\u001b[0m             \u001b[0;32mreturn\u001b[0m \u001b[0;34m[\u001b[0m\u001b[0mtot_time\u001b[0m\u001b[0;34m,\u001b[0m\u001b[0mproof\u001b[0m\u001b[0;34m]\u001b[0m\u001b[0;34m\u001b[0m\u001b[0;34m\u001b[0m\u001b[0m\n\u001b[1;32m     18\u001b[0m         \u001b[0;32melse\u001b[0m\u001b[0;34m:\u001b[0m\u001b[0;34m\u001b[0m\u001b[0;34m\u001b[0m\u001b[0m\n\u001b[0;32m---> 19\u001b[0;31m             \u001b[0mproof\u001b[0m\u001b[0;34m+=\u001b[0m\u001b[0;36m1\u001b[0m\u001b[0;34m\u001b[0m\u001b[0;34m\u001b[0m\u001b[0m\n\u001b[0m",
      "\u001b[0;31mKeyboardInterrupt\u001b[0m: "
     ]
    }
   ],
   "source": [
    "import numpy as np\n",
    "f = open(\"hash.csv\",'w')\n",
    "abs_start = time.perf_counter()\n",
    "for i in np.arange(15):\n",
    "    dat = hash(target=i)\n",
    "    t = time.perf_counter()-abs_start\n",
    "    # Save to csv file in the format \n",
    "    # ABS time | hash target | time for this target | total number of hashes\n",
    "    f.write(\"{},{},{},{}\\n\".format(t,i,dat[0],dat[1]))"
   ]
  },
  {
   "cell_type": "code",
   "execution_count": 23,
   "id": "aggregate-temperature",
   "metadata": {},
   "outputs": [],
   "source": [
    "f.close()"
   ]
  },
  {
   "cell_type": "code",
   "execution_count": 24,
   "id": "better-economy",
   "metadata": {},
   "outputs": [],
   "source": [
    "f = np.genfromtxt(\"hash.csv\",delimiter=',')\n"
   ]
  },
  {
   "cell_type": "code",
   "execution_count": 31,
   "id": "unusual-submission",
   "metadata": {},
   "outputs": [
    {
     "data": {
      "image/png": "[encoded data removed]",
      "text/plain": [
       "<Figure size 432x288 with 1 Axes>"
      ]
     },
     "metadata": {
      "needs_background": "light"
     },
     "output_type": "display_data"
    }
   ],
   "source": [
    "import matplotlib.pyplot as plt\n",
    "t = f[:,2:3]\n",
    "plt.plot(np.arange(9),t)\n",
    "plt.show()"
   ]
  },
  {
   "cell_type": "code",
   "execution_count": null,
   "id": "raised-rider",
   "metadata": {},
   "outputs": [],
   "source": []
  }
 ],
 "metadata": {
  "kernelspec": {
   "display_name": "Python 3",
   "language": "python",
   "name": "python3"
  },
  "language_info": {
   "codemirror_mode": {
    "name": "ipython",
    "version": 3
   },
   "file_extension": ".py",
   "mimetype": "text/x-python",
   "name": "python",
   "nbconvert_exporter": "python",
   "pygments_lexer": "ipython3",
   "version": "3.9.2"
  }
 },
 "nbformat": 4,
 "nbformat_minor": 5
}
